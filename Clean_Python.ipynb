{
 "cells": [
  {
   "cell_type": "markdown",
   "metadata": {},
   "source": [
    "### Raising Exceptions"
   ]
  },
  {
   "cell_type": "markdown",
   "metadata": {},
   "source": [
    "#### Finaly:  Whether or not you have an exception, the code in finally will always run."
   ]
  },
  {
   "cell_type": "code",
   "execution_count": null,
   "metadata": {},
   "outputs": [],
   "source": [
    "def write_file(file_name):\n",
    "    myfile = open(file_name, \"w\")\n",
    "    try:\n",
    "        myfile.write(\"Python is awesome\")\n",
    "    finally:\n",
    "        myfile.close()   "
   ]
  },
  {
   "cell_type": "markdown",
   "metadata": {},
   "source": [
    "#### Creation own exception class"
   ]
  },
  {
   "cell_type": "code",
   "execution_count": null,
   "metadata": {},
   "outputs": [],
   "source": [
    "class UserNotFoundError(Exception):\n",
    "    def __init__(self, message=None, errors=None):\n",
    "        super().__init__(message)\n",
    "        self.errors = errors\n",
    "        \n",
    "def get_user_info(user_obj):\n",
    "    user = get_user_from_db(user_obj)\n",
    "    if not user:\n",
    "        raise UserNotFoundException(f\"No user found of this id: {user_obj.id}\")\n",
    "get_user_info(user_obj)"
   ]
  },
  {
   "cell_type": "markdown",
   "metadata": {},
   "source": [
    "### Data Sctructures"
   ]
  },
  {
   "cell_type": "markdown",
   "metadata": {},
   "source": [
    "#### NamedTuple:"
   ]
  },
  {
   "cell_type": "code",
   "execution_count": null,
   "metadata": {},
   "outputs": [],
   "source": [
    "from collections import namedtuple\n",
    "Point = namedtuple(\"Point\", [\"x\", \"y\", \"z\"])\n",
    "point = Point(x=3, y=4, z=5)\n",
    "point.x"
   ]
  },
  {
   "cell_type": "markdown",
   "metadata": {},
   "source": [
    "#### Zip: Combining lists"
   ]
  },
  {
   "cell_type": "code",
   "execution_count": null,
   "metadata": {},
   "outputs": [],
   "source": [
    "def get_user_salary_info():\n",
    "    users, users_salary = get_users_name_from_db(), get_users_salary_from_db()\n",
    "    users_salary = []\n",
    "    for usr, slr in zip(users, users_salary):\n",
    "        users_salary.append(usr, slr)\n",
    "    return users_salary"
   ]
  },
  {
   "cell_type": "markdown",
   "metadata": {},
   "source": [
    "#### Deque: creating a queue and stack"
   ]
  },
  {
   "cell_type": "code",
   "execution_count": null,
   "metadata": {},
   "outputs": [],
   "source": [
    "from collections import deque\n",
    "deq = deque(\"abcdefg\")\n",
    "deq.append(\"h\") #New entry to right side\n",
    "deq.appendleft(\"I\") #new entry to the left side\n",
    "deq.pop() #remove right most element\n",
    "deq.popleft() #remove left most element\n",
    "deq.clear() #clear all elements"
   ]
  },
  {
   "cell_type": "markdown",
   "metadata": {},
   "source": [
    "#### Defaultdict: works like dict, doesn’t raise a KeyError like dict and provides the default value for a nonexistent key"
   ]
  },
  {
   "cell_type": "code",
   "execution_count": null,
   "metadata": {},
   "outputs": [],
   "source": [
    "from collections import defaultdict\n",
    "colors = defaultdict(int, {\"1\":2})\n",
    "colors['3']"
   ]
  },
  {
   "cell_type": "markdown",
   "metadata": {},
   "source": [
    "#### Orderddict: can be used when you want to get the keys in a specific order"
   ]
  },
  {
   "cell_type": "code",
   "execution_count": null,
   "metadata": {},
   "outputs": [],
   "source": [
    "from collections import OrderedDict\n",
    "colors = OrderedDict()\n",
    "colors[\"orange\"] = \"ORANGE\"\n",
    "colors[\"blue\"] = \"BLUE\"\n",
    "[k for k, v in colors.items()]"
   ]
  },
  {
   "cell_type": "markdown",
   "metadata": {},
   "source": [
    "#### Switch Statement using Dictionary:"
   ]
  },
  {
   "cell_type": "code",
   "execution_count": null,
   "metadata": {},
   "outputs": [],
   "source": [
    "def zambia(amount):\n",
    "    calculate_tax = amount*0.3\n",
    "    return calculate_tax\n",
    "def eritrea(amount):\n",
    "    calculate_tax = amount*0.1\n",
    "    return calculate_tax\n",
    "contry_tax_calculate = {\"zambia\": zambia,\"eritrea\": eritrea}\n",
    "def calculate_tax(country_name, amount):\n",
    "    return contry_tax_calculate[country_name](amount)\n",
    "calculate_tax(\"zambia\", 8000000)"
   ]
  },
  {
   "cell_type": "markdown",
   "metadata": {},
   "source": [
    "#### Merging dictionary"
   ]
  },
  {
   "cell_type": "code",
   "execution_count": null,
   "metadata": {},
   "outputs": [],
   "source": [
    "salary_first = {\"Lisa\": 238900, \"Ganesh\": 8765000, \"John\":3450000}\n",
    "salary_second = {\"Albert\": 3456000, \"Arya\": 987600}\n",
    "{**salary_first, **salary_second}"
   ]
  },
  {
   "cell_type": "markdown",
   "metadata": {},
   "source": [
    "#### Breaking functions with yield:"
   ]
  },
  {
   "cell_type": "code",
   "execution_count": null,
   "metadata": {},
   "outputs": [],
   "source": [
    "def get_unique_emails(file_name):\n",
    "    emails = set()\n",
    "    for line in read_file(file_name):\n",
    "        match = re.findall(r'[\\w\\.-]+@[\\w\\.-]+', line)\n",
    "        for email in match:\n",
    "            emails.add(email)\n",
    "    return emails\n",
    "\n",
    "def read_file(file_name):\n",
    "    with open(file_name) as fread:\n",
    "        for line in fread:\n",
    "            yield line"
   ]
  },
  {
   "cell_type": "markdown",
   "metadata": {},
   "source": [
    "#### Logging"
   ]
  },
  {
   "cell_type": "code",
   "execution_count": null,
   "metadata": {},
   "outputs": [],
   "source": [
    "import logging\n",
    "\n",
    "logging.basicConfig(filename='app.log', filemode='w', format='%(name)s - %(levelname)s - %(message)s')\n",
    "name = 'John'\n",
    "\n",
    "if name == 'John':\n",
    "    logging.error('{} raised an error'.format(name))\n",
    "else:\n",
    "    print('good one!')"
   ]
  },
  {
   "cell_type": "code",
   "execution_count": null,
   "metadata": {},
   "outputs": [],
   "source": [
    "a = 5\n",
    "b = 0\n",
    "try:\n",
    "  c = a / b\n",
    "except Exception as e:\n",
    "  logging.error(\"Exception occurred\", exc_info=True)"
   ]
  },
  {
   "cell_type": "code",
   "execution_count": null,
   "metadata": {},
   "outputs": [],
   "source": [
    "import logging\n",
    "\n",
    "# Create a custom logger\n",
    "logger = logging.getLogger(__name__)\n",
    "\n",
    "# Create handlers\n",
    "c_handler = logging.StreamHandler()\n",
    "f_handler = logging.FileHandler('file.log') #send the log messages to configured destinations\n",
    "c_handler.setLevel(logging.WARNING)\n",
    "f_handler.setLevel(logging.ERROR)\n",
    "\n",
    "# Create formatters and add it to handlers\n",
    "c_format = logging.Formatter('%(name)s - %(levelname)s - %(message)s')\n",
    "f_format = logging.Formatter('%(asctime)s - %(name)s - %(levelname)s - %(message)s')\n",
    "c_handler.setFormatter(c_format)\n",
    "f_handler.setFormatter(f_format)\n",
    "\n",
    "# Add handlers to the logger\n",
    "logger.addHandler(c_handler)\n",
    "logger.addHandler(f_handler)\n",
    "\n",
    "logger.warning('This is a warning')\n",
    "logger.error('This is an error')"
   ]
  },
  {
   "cell_type": "markdown",
   "metadata": {},
   "source": [
    "#### Logging with config file"
   ]
  },
  {
   "cell_type": "code",
   "execution_count": 150,
   "metadata": {},
   "outputs": [],
   "source": [
    "import os\n",
    "import logging.config\n",
    "import yaml\n",
    "import logging\n",
    "\n",
    "def setup_logging(name, name2, \n",
    "    default_path='logging.yaml',\n",
    "):\n",
    "    path = default_path\n",
    "    if os.path.exists(path):\n",
    "        with open(path, 'rt') as f:\n",
    "            config = yaml.safe_load(f.read())\n",
    "            id_ = 'r'\n",
    "            config['formatters']['simple']['format'] = \"%(asctime)s - %(name)s - %(name2)s - %(levelname)s - %(message)s\"\n",
    "            print(config['formatters']['simple']['format'])\n",
    "        logging.config.dictConfig(config)\n",
    "        print(name2)\n",
    "        logger = logging.LoggerAdapter(logging.getLogger(name), {'name2': name2})\n",
    "\n",
    "    return logger"
   ]
  },
  {
   "cell_type": "code",
   "execution_count": 151,
   "metadata": {},
   "outputs": [
    {
     "name": "stdout",
     "output_type": "stream",
     "text": [
      "%(asctime)s - %(name)s - %(name2)s - %(levelname)s - %(message)s\n",
      "test2\n"
     ]
    }
   ],
   "source": [
    "logging_ = setup_logging(name ='test1', name2 = 'test2', default_path='logging.yaml')"
   ]
  },
  {
   "cell_type": "code",
   "execution_count": 152,
   "metadata": {},
   "outputs": [
    {
     "name": "stdout",
     "output_type": "stream",
     "text": [
      "2020-03-22 11:01:36,329 - test1 - test2 - INFO - bla bla bla\n"
     ]
    }
   ],
   "source": [
    "logging_.info('bla bla bla')"
   ]
  },
  {
   "cell_type": "markdown",
   "metadata": {},
   "source": [
    "#### Lambda Expression"
   ]
  },
  {
   "cell_type": "code",
   "execution_count": null,
   "metadata": {},
   "outputs": [],
   "source": [
    "numbers = [9,5,6,8]\n",
    "sorted_numbers = sorted(numbers, key=lambda num: abs(num))"
   ]
  },
  {
   "cell_type": "markdown",
   "metadata": {},
   "source": [
    "#### Classes"
   ]
  },
  {
   "cell_type": "code",
   "execution_count": null,
   "metadata": {},
   "outputs": [],
   "source": [
    "class Dog:\n",
    "    # Class Attribute\n",
    "    species = 'mammal'\n",
    "    HOMES = ['Kyiv', 'Paris']\n",
    "    \n",
    "    \n",
    "    def __init__(self, name, age):\n",
    "        self.name = name\n",
    "        self.age = age\n",
    "    \n",
    "    def __str__(self): #built-in Python special methods\n",
    "        return (\"Name \" + self.name)\n",
    "    \n",
    "    @classmethod #take a cls parameter that points to the class—and not the object instance\n",
    "    def classmethod(cls, home):\n",
    "        cls.HOMES.append(home)\n",
    "        return cls.HOMES\n",
    "    \n",
    "    @staticmethod #can neither modify object state nor class state\n",
    "    def staticmethod(home):\n",
    "        return \"good\""
   ]
  },
  {
   "cell_type": "code",
   "execution_count": null,
   "metadata": {},
   "outputs": [],
   "source": [
    "dog = Dog(\"Peter\", 10)"
   ]
  },
  {
   "cell_type": "code",
   "execution_count": null,
   "metadata": {},
   "outputs": [],
   "source": [
    "dog.__str__()"
   ]
  },
  {
   "cell_type": "markdown",
   "metadata": {},
   "source": [
    "#### Property Decorator"
   ]
  },
  {
   "cell_type": "code",
   "execution_count": null,
   "metadata": {},
   "outputs": [],
   "source": [
    "#Using a property decorator to get and set the value of the name makes it easier for the \n",
    "#CodeCouple class to validate the caller input.\n",
    "\n",
    "class CodeCouple(object):\n",
    "\n",
    "    def __init__(self, name):\n",
    "        self.name = name\n",
    "\n",
    "    @property\n",
    "    def name(self): #getter method\n",
    "        return self.__name\n",
    "\n",
    "    @name.setter\n",
    "    def name(self, name): #validate the argument\n",
    "        if name == 'Agnieszka':\n",
    "            self.__name = 'beautiful'\n",
    "        elif name == 'Krzysztof':\n",
    "            self.__name = 'ugly'\n",
    "        else:\n",
    "            self.__name = 'CodeCouple'\n",
    "            \n",
    "    @name.deleter #to delete the instance attribute\n",
    "    def price(self):\n",
    "        del self.__name"
   ]
  },
  {
   "cell_type": "code",
   "execution_count": null,
   "metadata": {},
   "outputs": [],
   "source": [
    "agnieszka = CodeCouple('Agnieszka')\n",
    "print(agnieszka.name)"
   ]
  },
  {
   "cell_type": "markdown",
   "metadata": {},
   "source": [
    "#### Abstract methods"
   ]
  },
  {
   "cell_type": "code",
   "execution_count": null,
   "metadata": {},
   "outputs": [],
   "source": [
    "from abc import ABCMeta, abstractmethod"
   ]
  },
  {
   "cell_type": "code",
   "execution_count": null,
   "metadata": {},
   "outputs": [],
   "source": [
    "class Fruit(metaclass=ABCMeta): #abc module makes sure that you implement all the expected methods\n",
    "    \n",
    "    def __init__(self, fruit):\n",
    "        self.fruit = fruit\n",
    "    \n",
    "    @abstractmethod\n",
    "    def taste(self):\n",
    "        pass\n",
    "    \n",
    "    @abstractmethod\n",
    "    def originated(self):\n",
    "        pass\n",
    "    \n",
    "class Apple:\n",
    "    def originated(self):\n",
    "        return \"Central Asia\""
   ]
  },
  {
   "cell_type": "code",
   "execution_count": null,
   "metadata": {},
   "outputs": [],
   "source": [
    "fruit = Fruit()"
   ]
  },
  {
   "cell_type": "markdown",
   "metadata": {},
   "source": [
    "#### Inheritance of a public class"
   ]
  },
  {
   "cell_type": "code",
   "execution_count": null,
   "metadata": {},
   "outputs": [],
   "source": [
    "class Person:\n",
    "    \n",
    "    def __init__(self):\n",
    "        self.age = 50\n",
    "\n",
    "class Child(Person):\n",
    "    def __init__(self):\n",
    "        super().__init__()\n",
    "        self._age = 30\n",
    "        "
   ]
  },
  {
   "cell_type": "code",
   "execution_count": null,
   "metadata": {},
   "outputs": [],
   "source": [
    "ch = Child()\n",
    "print(ch.age)\n",
    "print(ch._age)"
   ]
  }
 ],
 "metadata": {
  "kernelspec": {
   "display_name": "Python 3",
   "language": "python",
   "name": "python3"
  },
  "language_info": {
   "codemirror_mode": {
    "name": "ipython",
    "version": 3
   },
   "file_extension": ".py",
   "mimetype": "text/x-python",
   "name": "python",
   "nbconvert_exporter": "python",
   "pygments_lexer": "ipython3",
   "version": "3.6.5"
  }
 },
 "nbformat": 4,
 "nbformat_minor": 2
}
